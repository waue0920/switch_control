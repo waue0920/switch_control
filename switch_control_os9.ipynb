{
 "cells": [
  {
   "cell_type": "code",
   "execution_count": 1,
   "metadata": {},
   "outputs": [],
   "source": [
    "## define\n",
    "bastion_ip='192.168.50.20'\n",
    "bastion_user='admin'\n",
    "bastion_pass='icair.750'\n",
    "session=\"1\"\n",
    "dst_port=\"1\"\n",
    "src_port=\"2\""
   ]
  },
  {
   "cell_type": "code",
   "execution_count": 2,
   "metadata": {},
   "outputs": [],
   "source": [
    "\n",
    "\n",
    "import paramiko\n",
    "import time\n",
    "import re\n",
    "\n",
    "def endwith_input(prompt_str,input_str,sleep=0,verbose=False):\n",
    "    buff=''\n",
    "    while not buff.endswith(prompt_str):\n",
    "        resp = chan.recv(9999).decode(\"utf8\")\n",
    "        buff += str(resp)\n",
    "    if verbose : print(buff)  \n",
    "    time.sleep(sleep)\n",
    "    chan.send(input_str+\"\\n\")\n",
    "    return buff\n",
    "\n",
    "\n",
    "def endwith_exec_search(prompt_str, cmd, search_str, sleep=0, verbose=False):\n",
    "    buff = ''\n",
    "    while not buff.endswith(prompt_str):\n",
    "        resp = chan.recv(9999).decode(\"utf8\")\n",
    "        buff += str(resp)\n",
    "    if verbose : print(\"initb=\"+buff)  \n",
    "    time.sleep(sleep)\n",
    "    chan.send(cmd+ \";sleep 1; echo @@end@@\"+\"\\n\")\n",
    "    while buff.find('@@end@@') < 0:\n",
    "        resp = chan.recv(9999).decode(\"utf8\")\n",
    "        buff += str(resp)\n",
    "    time.sleep(sleep)\n",
    "    if verbose : print(\"buff=\"+buff)  \n",
    "    if verbose : print(\"seach_str=\"+search_str)\n",
    "    ret=re.search(search_str, buff)    \n",
    "    if verbose : print(\"ret=\"+str(ret))\n",
    "    if ret == None:\n",
    "        return False\n",
    "    else:\n",
    "        return True\n",
    "    #ret = True if ret != None else False\n",
    "\n",
    "\n",
    "def exec_once(cmd):\n",
    "    stdin, stdout, stderr = ssh.exec_command(cmd)\n",
    "    for line in stdout:\n",
    "        print('... ' + line.strip('\\n'))\n",
    "\n",
    "## initial \n",
    "ssh = paramiko.SSHClient()\n",
    "ssh.set_missing_host_key_policy( paramiko.AutoAddPolicy() )\n",
    "ssh.connect(bastion_ip, username=bastion_user, password=bastion_pass)\n",
    "chan = ssh.invoke_shell()"
   ]
  },
  {
   "cell_type": "code",
   "execution_count": 3,
   "metadata": {
    "scrolled": true
   },
   "outputs": [
    {
     "name": "stdout",
     "output_type": "stream",
     "text": [
      "dtn17dell1#\n",
      "configure terminal\r\n",
      "dtn17dell1(conf)#\n",
      "interface hu 1/1\r\n",
      "dtn17dell1(conf-if-hu-1/1)#\n",
      "no switchport\r\n",
      "dtn17dell1(conf-if-hu-1/1)#\n",
      "exit\r\n",
      "dtn17dell1(conf)#\n",
      "monitor session 1\r\n",
      "dtn17dell1(conf-mon-sess-1)#\n",
      "source hu 1/2 destination hu 1/1 direction both\r\n",
      "dtn17dell1(conf-mon-sess-1)#\n",
      "exit\r\n",
      "dtn17dell1(conf)#\n"
     ]
    }
   ],
   "source": [
    "## enable\n",
    "endwith_input('#','configure terminal', verbose=True)\n",
    "endwith_input('#','interface hu 1/'+dst_port, verbose=True)\n",
    "endwith_input('#','no switchport', verbose=True)\n",
    "endwith_input('#','exit', verbose=True)\n",
    "\n",
    "endwith_input(')#','monitor session '+session,verbose=True)\n",
    "\n",
    "endwith_input(')#','source hu 1/'+ src_port +' destination hu 1/'+ dst_port +' direction both',verbose=True)\n",
    "endwith_input(')#','exit',verbose=True)\n",
    "endwith_input(')#','exit',verbose=True)\n",
    "ssh.close()"
   ]
  },
  {
   "cell_type": "code",
   "execution_count": 4,
   "metadata": {},
   "outputs": [
    {
     "name": "stdout",
     "output_type": "stream",
     "text": [
      "dtn17dell1#show monitor session 1\n",
      "  SessID  Source         Destination         Dir  Mode  Source IP      Dest IP         DSCP  TTL   Drop  Rate\n",
      "  ------  ------         -----------         ---  ----  ---------      --------        ----  ---   ----  ----\n",
      "     1   Hu 1/2            Hu 1/1            both Port     N/A            N/A          N/A   N/A   No     N/A\n",
      "dtn17dell1#\n"
     ]
    }
   ],
   "source": [
    "## check result\n",
    "ssh = paramiko.SSHClient()\n",
    "ssh.set_missing_host_key_policy( paramiko.AutoAddPolicy() )\n",
    "ssh.connect(bastion_ip, username=bastion_user, password=bastion_pass)\n",
    "stdin, stdout, stderr = ssh.exec_command(\"show monitor session 1\")\n",
    "\n",
    "for line in stdout:\n",
    "    print(line.strip('\\n'))\n",
    "ssh.close()"
   ]
  },
  {
   "cell_type": "code",
   "execution_count": 5,
   "metadata": {
    "scrolled": true
   },
   "outputs": [
    {
     "name": "stdout",
     "output_type": "stream",
     "text": [
      "dtn17dell1#\n",
      "configure terminal\r\n",
      "dtn17dell1(conf)#\n",
      "no monitor session 1\r\n",
      "dtn17dell1(conf)#\n"
     ]
    }
   ],
   "source": [
    "## tear down\n",
    "ssh.connect(bastion_ip, username=bastion_user, password=bastion_pass)\n",
    "chan = ssh.invoke_shell()\n",
    "endwith_input('#','configure terminal', verbose=True)\n",
    "endwith_input(')#','no monitor session '+session,verbose=True)\n",
    "endwith_input(')#','end',verbose=True)\n",
    "\n",
    "ssh.close()"
   ]
  },
  {
   "cell_type": "code",
   "execution_count": 6,
   "metadata": {},
   "outputs": [
    {
     "name": "stdout",
     "output_type": "stream",
     "text": [
      "dtn17dell1#show monitor session 1\n",
      "% Error: No such session exists.\n",
      "dtn17dell1#\n"
     ]
    }
   ],
   "source": [
    "## check result\n",
    "ssh = paramiko.SSHClient()\n",
    "ssh.set_missing_host_key_policy( paramiko.AutoAddPolicy() )\n",
    "ssh.connect(bastion_ip, username=bastion_user, password=bastion_pass)\n",
    "stdin, stdout, stderr = ssh.exec_command(\"show monitor session 1\")\n",
    "\n",
    "for line in stdout:\n",
    "    print(line.strip('\\n'))\n"
   ]
  },
  {
   "cell_type": "code",
   "execution_count": 7,
   "metadata": {},
   "outputs": [],
   "source": [
    "# close\n",
    "ssh.close()"
   ]
  },
  {
   "cell_type": "code",
   "execution_count": null,
   "metadata": {},
   "outputs": [],
   "source": []
  }
 ],
 "metadata": {
  "kernelspec": {
   "display_name": "Python 3",
   "language": "python",
   "name": "python3"
  },
  "language_info": {
   "codemirror_mode": {
    "name": "ipython",
    "version": 3
   },
   "file_extension": ".py",
   "mimetype": "text/x-python",
   "name": "python",
   "nbconvert_exporter": "python",
   "pygments_lexer": "ipython3",
   "version": "3.4.5"
  }
 },
 "nbformat": 4,
 "nbformat_minor": 2
}
